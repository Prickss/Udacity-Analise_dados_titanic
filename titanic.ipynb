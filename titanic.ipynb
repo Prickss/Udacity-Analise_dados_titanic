{
 "cells": [
  {
   "cell_type": "markdown",
   "metadata": {},
   "source": [
    "## TITANIC"
   ]
  },
  {
   "cell_type": "markdown",
   "metadata": {},
   "source": [
    "   O Titanic foi um navio britânico operado pela White Star Line, projetado pelos engenheiros navais Alexander Carlisle e Thomas Andrews para ser o navio mais luxuoso e seguro da época. \n",
    "    Sua construção se iniciou em Março de 1909 e foi lançado ao mar 2 anos após o inicio de sua construção, em Maio de 1911.\n",
    "    O Titanic partiu do Reino Unido em 10 de Abril de 1912 e tinha como destino os Estados Unidos, com 3 pontos de embarque: Southampton (Reino Unido), Cherbourg-Octeville (França) e Queenstown (Irlanda), colidiu com um iceberg em 14 de Abril e afundou no dia seguinte com 1500 pessoas a bordo. \n",
    "    Após o naufrágio, foram identificadas várias deficiências nos procedimentos de evacuação e regulamentação dos serviços marítmos, isso forçou a entrada de novas regulamentações internacionais de navegação. \n",
    "    Seus destroços foram encontrados somente em 1985."
   ]
  },
  {
   "cell_type": "markdown",
   "metadata": {},
   "source": [
    "Analisando a lista de pessoas que embarcaram no Titanic, quais conclusões podem ser obtidas com essas informações?\n",
    "- Qual o número de passageiros? \n",
    "- Qual a quantidade de pessoas por classe, gênero e faixa etária? \n",
    "- Quem teve mais chance de sobrevivência? Homens ou mulheres? \n",
    "- A Classe influenciou a quantidade de sobreviventes?\n",
    "- Qual a faixa etária média dos mortos e sobreviventes?\n",
    "- A maioria viajava sozinho ou acompanhado?\n",
    "- Qual o percentual de crianças, adultos e idosos?\n",
    "- Qual a distribuição de idade de todos os passageiros, sobreviventes e não sobreviventes?\n",
    "- Qual a variação de tarifas de acordo com a classe etária?\n",
    "- Qual a tarifa média por classe de embarque? \n",
    "\n",
    "Essas questões serão respondidos a seguir. "
   ]
  },
  {
   "cell_type": "markdown",
   "metadata": {},
   "source": [
    "Informações presentes no dataset:\n",
    "    \n",
    "- PassengerId: Index das linhas; \n",
    "- Survived: Se sobreviveu ou não (0-não;1-sim)\n",
    "- Pclass: Classe de embarque. 1ª, 2ª ou 3ª\n",
    "- Name: Nome do passageiro\n",
    "- Sex: Gênero\n",
    "- Age: Idade\n",
    "- SibSp: Quantidade de irmãos e conjugês a bordo\n",
    "- Parch: Quantidade de pais e filhos a bordo\n",
    "- Ticket: Nº do bilhete de embarque\n",
    "- Fare: Tarifa\n",
    "- Cabin: Cabine\n",
    "- Embarked: Local de Embarque"
   ]
  },
  {
   "cell_type": "markdown",
   "metadata": {},
   "source": [
    "##### Importanto as bibliotecas e o dataset"
   ]
  },
  {
   "cell_type": "code",
   "execution_count": 1,
   "metadata": {},
   "outputs": [],
   "source": [
    "import pandas as pd\n",
    "import numpy as np\n",
    "import matplotlib.pyplot as plt\n",
    "%matplotlib inline\n",
    "import seaborn as sns\n",
    "\n",
    "import warnings\n",
    "warnings.filterwarnings('ignore')\n",
    "\n",
    "titanic = pd.read_csv('titanic-data-6.csv')"
   ]
  },
  {
   "cell_type": "markdown",
   "metadata": {},
   "source": [
    "##### Conhecendo o dataset"
   ]
  },
  {
   "cell_type": "code",
   "execution_count": 2,
   "metadata": {},
   "outputs": [
    {
     "data": {
      "text/html": [
       "<div>\n",
       "<style scoped>\n",
       "    .dataframe tbody tr th:only-of-type {\n",
       "        vertical-align: middle;\n",
       "    }\n",
       "\n",
       "    .dataframe tbody tr th {\n",
       "        vertical-align: top;\n",
       "    }\n",
       "\n",
       "    .dataframe thead th {\n",
       "        text-align: right;\n",
       "    }\n",
       "</style>\n",
       "<table border=\"1\" class=\"dataframe\">\n",
       "  <thead>\n",
       "    <tr style=\"text-align: right;\">\n",
       "      <th></th>\n",
       "      <th>PassengerId</th>\n",
       "      <th>Survived</th>\n",
       "      <th>Pclass</th>\n",
       "      <th>Name</th>\n",
       "      <th>Sex</th>\n",
       "      <th>Age</th>\n",
       "      <th>SibSp</th>\n",
       "      <th>Parch</th>\n",
       "      <th>Ticket</th>\n",
       "      <th>Fare</th>\n",
       "      <th>Cabin</th>\n",
       "      <th>Embarked</th>\n",
       "    </tr>\n",
       "  </thead>\n",
       "  <tbody>\n",
       "    <tr>\n",
       "      <th>0</th>\n",
       "      <td>1</td>\n",
       "      <td>0</td>\n",
       "      <td>3</td>\n",
       "      <td>Braund, Mr. Owen Harris</td>\n",
       "      <td>male</td>\n",
       "      <td>22.0</td>\n",
       "      <td>1</td>\n",
       "      <td>0</td>\n",
       "      <td>A/5 21171</td>\n",
       "      <td>7.2500</td>\n",
       "      <td>NaN</td>\n",
       "      <td>S</td>\n",
       "    </tr>\n",
       "    <tr>\n",
       "      <th>1</th>\n",
       "      <td>2</td>\n",
       "      <td>1</td>\n",
       "      <td>1</td>\n",
       "      <td>Cumings, Mrs. John Bradley (Florence Briggs Th...</td>\n",
       "      <td>female</td>\n",
       "      <td>38.0</td>\n",
       "      <td>1</td>\n",
       "      <td>0</td>\n",
       "      <td>PC 17599</td>\n",
       "      <td>71.2833</td>\n",
       "      <td>C85</td>\n",
       "      <td>C</td>\n",
       "    </tr>\n",
       "    <tr>\n",
       "      <th>2</th>\n",
       "      <td>3</td>\n",
       "      <td>1</td>\n",
       "      <td>3</td>\n",
       "      <td>Heikkinen, Miss. Laina</td>\n",
       "      <td>female</td>\n",
       "      <td>26.0</td>\n",
       "      <td>0</td>\n",
       "      <td>0</td>\n",
       "      <td>STON/O2. 3101282</td>\n",
       "      <td>7.9250</td>\n",
       "      <td>NaN</td>\n",
       "      <td>S</td>\n",
       "    </tr>\n",
       "    <tr>\n",
       "      <th>3</th>\n",
       "      <td>4</td>\n",
       "      <td>1</td>\n",
       "      <td>1</td>\n",
       "      <td>Futrelle, Mrs. Jacques Heath (Lily May Peel)</td>\n",
       "      <td>female</td>\n",
       "      <td>35.0</td>\n",
       "      <td>1</td>\n",
       "      <td>0</td>\n",
       "      <td>113803</td>\n",
       "      <td>53.1000</td>\n",
       "      <td>C123</td>\n",
       "      <td>S</td>\n",
       "    </tr>\n",
       "    <tr>\n",
       "      <th>4</th>\n",
       "      <td>5</td>\n",
       "      <td>0</td>\n",
       "      <td>3</td>\n",
       "      <td>Allen, Mr. William Henry</td>\n",
       "      <td>male</td>\n",
       "      <td>35.0</td>\n",
       "      <td>0</td>\n",
       "      <td>0</td>\n",
       "      <td>373450</td>\n",
       "      <td>8.0500</td>\n",
       "      <td>NaN</td>\n",
       "      <td>S</td>\n",
       "    </tr>\n",
       "  </tbody>\n",
       "</table>\n",
       "</div>"
      ],
      "text/plain": [
       "   PassengerId  Survived  Pclass  \\\n",
       "0            1         0       3   \n",
       "1            2         1       1   \n",
       "2            3         1       3   \n",
       "3            4         1       1   \n",
       "4            5         0       3   \n",
       "\n",
       "                                                Name     Sex   Age  SibSp  \\\n",
       "0                            Braund, Mr. Owen Harris    male  22.0      1   \n",
       "1  Cumings, Mrs. John Bradley (Florence Briggs Th...  female  38.0      1   \n",
       "2                             Heikkinen, Miss. Laina  female  26.0      0   \n",
       "3       Futrelle, Mrs. Jacques Heath (Lily May Peel)  female  35.0      1   \n",
       "4                           Allen, Mr. William Henry    male  35.0      0   \n",
       "\n",
       "   Parch            Ticket     Fare Cabin Embarked  \n",
       "0      0         A/5 21171   7.2500   NaN        S  \n",
       "1      0          PC 17599  71.2833   C85        C  \n",
       "2      0  STON/O2. 3101282   7.9250   NaN        S  \n",
       "3      0            113803  53.1000  C123        S  \n",
       "4      0            373450   8.0500   NaN        S  "
      ]
     },
     "execution_count": 2,
     "metadata": {},
     "output_type": "execute_result"
    }
   ],
   "source": [
    "titanic.head()"
   ]
  },
  {
   "cell_type": "markdown",
   "metadata": {},
   "source": [
    "#### Limpeza e tratamento de dados\n",
    "\n",
    "Serão feitas as seguintes alterações nos dados:\n",
    "- o nome das colunas serão alterados para melhor entendimento;\n",
    "- A coluna `id` será removida e será utilizado o index do dataframe;\n",
    "- As colunas `nome`, `ticket` e `cabine` não serão analisadas e serão removidas;\n",
    "- Os valores ausentes de `Idade` serão substituídos pela média de idade de cada classe de embarque;\n",
    "- Os 2 registros com o local de embarque ausente serão excluídos.\n",
    "- Os valores da coluna `sobreviveu` serão substituídos para S (sim) e N(não);\n",
    "- Os valores da coluna `embarque` serão substituídos de S, C e Q para Southampton, Cherbourg, Queenstown respectivamente;\n",
    "- Os valores da coluna `idade` serão convertidos para números inteiros;\n",
    "- criação de nova coluna `class_etaria` para classificar em criança, adulto e idoso;\n",
    "- Criação da coluna `familiares` para identificar a quantidade de acompanhantes;\n",
    "- Criação da coluna `acompanhante` para identificar se viaja sozinho ou acompanhado.\n",
    "\n"
   ]
  },
  {
   "cell_type": "markdown",
   "metadata": {},
   "source": [
    "##### Renomeando as colunas"
   ]
  },
  {
   "cell_type": "code",
   "execution_count": 3,
   "metadata": {},
   "outputs": [
    {
     "data": {
      "text/html": [
       "<div>\n",
       "<style scoped>\n",
       "    .dataframe tbody tr th:only-of-type {\n",
       "        vertical-align: middle;\n",
       "    }\n",
       "\n",
       "    .dataframe tbody tr th {\n",
       "        vertical-align: top;\n",
       "    }\n",
       "\n",
       "    .dataframe thead th {\n",
       "        text-align: right;\n",
       "    }\n",
       "</style>\n",
       "<table border=\"1\" class=\"dataframe\">\n",
       "  <thead>\n",
       "    <tr style=\"text-align: right;\">\n",
       "      <th></th>\n",
       "      <th>id</th>\n",
       "      <th>sobreviveu</th>\n",
       "      <th>classes</th>\n",
       "      <th>nome</th>\n",
       "      <th>genero</th>\n",
       "      <th>idade</th>\n",
       "      <th>irmaos_conjuge</th>\n",
       "      <th>pais_filhos</th>\n",
       "      <th>ticket</th>\n",
       "      <th>tarifa</th>\n",
       "      <th>cabine</th>\n",
       "      <th>embarque</th>\n",
       "    </tr>\n",
       "  </thead>\n",
       "  <tbody>\n",
       "    <tr>\n",
       "      <th>0</th>\n",
       "      <td>1</td>\n",
       "      <td>0</td>\n",
       "      <td>3</td>\n",
       "      <td>Braund, Mr. Owen Harris</td>\n",
       "      <td>male</td>\n",
       "      <td>22.0</td>\n",
       "      <td>1</td>\n",
       "      <td>0</td>\n",
       "      <td>A/5 21171</td>\n",
       "      <td>7.25</td>\n",
       "      <td>NaN</td>\n",
       "      <td>S</td>\n",
       "    </tr>\n",
       "  </tbody>\n",
       "</table>\n",
       "</div>"
      ],
      "text/plain": [
       "   id  sobreviveu  classes                     nome genero  idade  \\\n",
       "0   1           0        3  Braund, Mr. Owen Harris   male   22.0   \n",
       "\n",
       "   irmaos_conjuge  pais_filhos     ticket  tarifa cabine embarque  \n",
       "0               1            0  A/5 21171    7.25    NaN        S  "
      ]
     },
     "execution_count": 3,
     "metadata": {},
     "output_type": "execute_result"
    }
   ],
   "source": [
    "titanic.columns = ['id', 'sobreviveu','classes', 'nome', 'genero', 'idade', 'irmaos_conjuge', 'pais_filhos','ticket','tarifa','cabine','embarque']\n",
    "titanic.head(1)"
   ]
  },
  {
   "cell_type": "code",
   "execution_count": 4,
   "metadata": {},
   "outputs": [
    {
     "data": {
      "text/plain": [
       "id                  int64\n",
       "sobreviveu          int64\n",
       "classes             int64\n",
       "nome               object\n",
       "genero             object\n",
       "idade             float64\n",
       "irmaos_conjuge      int64\n",
       "pais_filhos         int64\n",
       "ticket             object\n",
       "tarifa            float64\n",
       "cabine             object\n",
       "embarque           object\n",
       "dtype: object"
      ]
     },
     "execution_count": 4,
     "metadata": {},
     "output_type": "execute_result"
    }
   ],
   "source": [
    "titanic.dtypes"
   ]
  },
  {
   "cell_type": "markdown",
   "metadata": {},
   "source": [
    "##### Excluindo colunas"
   ]
  },
  {
   "cell_type": "code",
   "execution_count": 5,
   "metadata": {},
   "outputs": [],
   "source": [
    "# Retirando as colunas nome, ticket e cabine que não são relevantes\n",
    "titanic.drop(['id','nome','ticket', 'cabine'],axis=1,inplace=True)"
   ]
  },
  {
   "cell_type": "markdown",
   "metadata": {},
   "source": [
    "##### Substituindo os valores das colunas sobreviveu, local de embarque e gênero para facilitar o entendimento."
   ]
  },
  {
   "cell_type": "code",
   "execution_count": 6,
   "metadata": {},
   "outputs": [],
   "source": [
    "#Substituindo valores e formatando dados\n",
    "\n",
    "def change_value (col, old_value, new_value):\n",
    "        \n",
    "    '''Função para substituir valores.\n",
    "       Argumentos:\n",
    "           col: nome da coluna que terá seus valores alterados\n",
    "           old_value: valor a ser substituído\n",
    "           new_value: novo valor.\n",
    "        Retorna:\n",
    "            Colunas com os valores alterados.\n",
    "    '''\n",
    "    titanic[col].replace(old_value, new_value, inplace=True)\n",
    "    \n",
    "change_value('sobreviveu',(0, 1), ('N','S'))\n",
    "change_value('genero',('male','female'), ('masculino', 'feminino'))\n",
    "change_value('embarque',('S','C','Q'),('Southampton','Cherbourg','Queenstown'))"
   ]
  },
  {
   "cell_type": "code",
   "execution_count": 7,
   "metadata": {},
   "outputs": [
    {
     "data": {
      "text/html": [
       "<div>\n",
       "<style scoped>\n",
       "    .dataframe tbody tr th:only-of-type {\n",
       "        vertical-align: middle;\n",
       "    }\n",
       "\n",
       "    .dataframe tbody tr th {\n",
       "        vertical-align: top;\n",
       "    }\n",
       "\n",
       "    .dataframe thead th {\n",
       "        text-align: right;\n",
       "    }\n",
       "</style>\n",
       "<table border=\"1\" class=\"dataframe\">\n",
       "  <thead>\n",
       "    <tr style=\"text-align: right;\">\n",
       "      <th></th>\n",
       "      <th>sobreviveu</th>\n",
       "      <th>classes</th>\n",
       "      <th>genero</th>\n",
       "      <th>idade</th>\n",
       "      <th>irmaos_conjuge</th>\n",
       "      <th>pais_filhos</th>\n",
       "      <th>tarifa</th>\n",
       "      <th>embarque</th>\n",
       "    </tr>\n",
       "  </thead>\n",
       "  <tbody>\n",
       "    <tr>\n",
       "      <th>0</th>\n",
       "      <td>N</td>\n",
       "      <td>3</td>\n",
       "      <td>masculino</td>\n",
       "      <td>22.0</td>\n",
       "      <td>1</td>\n",
       "      <td>0</td>\n",
       "      <td>7.2500</td>\n",
       "      <td>Southampton</td>\n",
       "    </tr>\n",
       "    <tr>\n",
       "      <th>1</th>\n",
       "      <td>S</td>\n",
       "      <td>1</td>\n",
       "      <td>feminino</td>\n",
       "      <td>38.0</td>\n",
       "      <td>1</td>\n",
       "      <td>0</td>\n",
       "      <td>71.2833</td>\n",
       "      <td>Cherbourg</td>\n",
       "    </tr>\n",
       "    <tr>\n",
       "      <th>2</th>\n",
       "      <td>S</td>\n",
       "      <td>3</td>\n",
       "      <td>feminino</td>\n",
       "      <td>26.0</td>\n",
       "      <td>0</td>\n",
       "      <td>0</td>\n",
       "      <td>7.9250</td>\n",
       "      <td>Southampton</td>\n",
       "    </tr>\n",
       "    <tr>\n",
       "      <th>3</th>\n",
       "      <td>S</td>\n",
       "      <td>1</td>\n",
       "      <td>feminino</td>\n",
       "      <td>35.0</td>\n",
       "      <td>1</td>\n",
       "      <td>0</td>\n",
       "      <td>53.1000</td>\n",
       "      <td>Southampton</td>\n",
       "    </tr>\n",
       "    <tr>\n",
       "      <th>4</th>\n",
       "      <td>N</td>\n",
       "      <td>3</td>\n",
       "      <td>masculino</td>\n",
       "      <td>35.0</td>\n",
       "      <td>0</td>\n",
       "      <td>0</td>\n",
       "      <td>8.0500</td>\n",
       "      <td>Southampton</td>\n",
       "    </tr>\n",
       "    <tr>\n",
       "      <th>5</th>\n",
       "      <td>N</td>\n",
       "      <td>3</td>\n",
       "      <td>masculino</td>\n",
       "      <td>NaN</td>\n",
       "      <td>0</td>\n",
       "      <td>0</td>\n",
       "      <td>8.4583</td>\n",
       "      <td>Queenstown</td>\n",
       "    </tr>\n",
       "    <tr>\n",
       "      <th>6</th>\n",
       "      <td>N</td>\n",
       "      <td>1</td>\n",
       "      <td>masculino</td>\n",
       "      <td>54.0</td>\n",
       "      <td>0</td>\n",
       "      <td>0</td>\n",
       "      <td>51.8625</td>\n",
       "      <td>Southampton</td>\n",
       "    </tr>\n",
       "    <tr>\n",
       "      <th>7</th>\n",
       "      <td>N</td>\n",
       "      <td>3</td>\n",
       "      <td>masculino</td>\n",
       "      <td>2.0</td>\n",
       "      <td>3</td>\n",
       "      <td>1</td>\n",
       "      <td>21.0750</td>\n",
       "      <td>Southampton</td>\n",
       "    </tr>\n",
       "    <tr>\n",
       "      <th>8</th>\n",
       "      <td>S</td>\n",
       "      <td>3</td>\n",
       "      <td>feminino</td>\n",
       "      <td>27.0</td>\n",
       "      <td>0</td>\n",
       "      <td>2</td>\n",
       "      <td>11.1333</td>\n",
       "      <td>Southampton</td>\n",
       "    </tr>\n",
       "    <tr>\n",
       "      <th>9</th>\n",
       "      <td>S</td>\n",
       "      <td>2</td>\n",
       "      <td>feminino</td>\n",
       "      <td>14.0</td>\n",
       "      <td>1</td>\n",
       "      <td>0</td>\n",
       "      <td>30.0708</td>\n",
       "      <td>Cherbourg</td>\n",
       "    </tr>\n",
       "  </tbody>\n",
       "</table>\n",
       "</div>"
      ],
      "text/plain": [
       "  sobreviveu  classes     genero  idade  irmaos_conjuge  pais_filhos   tarifa  \\\n",
       "0          N        3  masculino   22.0               1            0   7.2500   \n",
       "1          S        1   feminino   38.0               1            0  71.2833   \n",
       "2          S        3   feminino   26.0               0            0   7.9250   \n",
       "3          S        1   feminino   35.0               1            0  53.1000   \n",
       "4          N        3  masculino   35.0               0            0   8.0500   \n",
       "5          N        3  masculino    NaN               0            0   8.4583   \n",
       "6          N        1  masculino   54.0               0            0  51.8625   \n",
       "7          N        3  masculino    2.0               3            1  21.0750   \n",
       "8          S        3   feminino   27.0               0            2  11.1333   \n",
       "9          S        2   feminino   14.0               1            0  30.0708   \n",
       "\n",
       "      embarque  \n",
       "0  Southampton  \n",
       "1    Cherbourg  \n",
       "2  Southampton  \n",
       "3  Southampton  \n",
       "4  Southampton  \n",
       "5   Queenstown  \n",
       "6  Southampton  \n",
       "7  Southampton  \n",
       "8  Southampton  \n",
       "9    Cherbourg  "
      ]
     },
     "execution_count": 7,
     "metadata": {},
     "output_type": "execute_result"
    }
   ],
   "source": [
    "titanic.head(10)"
   ]
  },
  {
   "cell_type": "code",
   "execution_count": 8,
   "metadata": {},
   "outputs": [
    {
     "data": {
      "text/plain": [
       "sobreviveu         object\n",
       "classes             int64\n",
       "genero             object\n",
       "idade             float64\n",
       "irmaos_conjuge      int64\n",
       "pais_filhos         int64\n",
       "tarifa            float64\n",
       "embarque           object\n",
       "dtype: object"
      ]
     },
     "execution_count": 8,
     "metadata": {},
     "output_type": "execute_result"
    }
   ],
   "source": [
    "titanic.dtypes"
   ]
  },
  {
   "cell_type": "markdown",
   "metadata": {},
   "source": [
    "##### Verificando valores nulos"
   ]
  },
  {
   "cell_type": "code",
   "execution_count": 9,
   "metadata": {},
   "outputs": [
    {
     "data": {
      "text/plain": [
       "sobreviveu        891\n",
       "classes           891\n",
       "genero            891\n",
       "idade             714\n",
       "irmaos_conjuge    891\n",
       "pais_filhos       891\n",
       "tarifa            891\n",
       "embarque          889\n",
       "dtype: int64"
      ]
     },
     "execution_count": 9,
     "metadata": {},
     "output_type": "execute_result"
    }
   ],
   "source": [
    "titanic.count()"
   ]
  },
  {
   "cell_type": "code",
   "execution_count": 10,
   "metadata": {},
   "outputs": [
    {
     "data": {
      "text/plain": [
       "sobreviveu          0\n",
       "classes             0\n",
       "genero              0\n",
       "idade             177\n",
       "irmaos_conjuge      0\n",
       "pais_filhos         0\n",
       "tarifa              0\n",
       "embarque            2\n",
       "dtype: int64"
      ]
     },
     "execution_count": 10,
     "metadata": {},
     "output_type": "execute_result"
    }
   ],
   "source": [
    "#Verificando se há valores nulos\n",
    "titanic.isnull().sum()"
   ]
  },
  {
   "cell_type": "code",
   "execution_count": 11,
   "metadata": {},
   "outputs": [],
   "source": [
    "# Excluindo linhas onde Embarque é um valor ausente, visto que são apenas 2 linhas e não influenciarão nas análises posteriores\n",
    "titanic.dropna(subset=['embarque'], inplace=True)"
   ]
  },
  {
   "cell_type": "markdown",
   "metadata": {},
   "source": [
    "##### Tratando os valores ausentes de Idade"
   ]
  },
  {
   "cell_type": "code",
   "execution_count": 12,
   "metadata": {},
   "outputs": [
    {
     "data": {
      "text/plain": [
       "classes\n",
       "1    38.105543\n",
       "2    29.877630\n",
       "3    25.140620\n",
       "Name: idade, dtype: float64"
      ]
     },
     "execution_count": 12,
     "metadata": {},
     "output_type": "execute_result"
    }
   ],
   "source": [
    "# Identificando a idade média por classe\n",
    "titanic.groupby('classes')['idade'].mean()"
   ]
  },
  {
   "cell_type": "code",
   "execution_count": 13,
   "metadata": {},
   "outputs": [],
   "source": [
    "#Criando as variáveis de media de idade\n",
    "mean_1 = titanic[titanic['classes'] == 1]['idade'].mean()\n",
    "mean_2 = titanic[titanic['classes'] == 2]['idade'].mean()\n",
    "mean_3 = titanic[titanic['classes'] == 3]['idade'].mean()"
   ]
  },
  {
   "cell_type": "code",
   "execution_count": 14,
   "metadata": {},
   "outputs": [
    {
     "name": "stdout",
     "output_type": "stream",
     "text": [
      "Idade Média da Classe 1:  38.10554347826087 \n",
      "Idade Média da Classe 2:  29.87763005780347 \n",
      "Idade Média da Classe 2:  25.14061971830986\n"
     ]
    }
   ],
   "source": [
    "print('Idade Média da Classe 1: ', mean_1, '\\nIdade Média da Classe 2: ', mean_2, '\\nIdade Média da Classe 2: '  , mean_3)"
   ]
  },
  {
   "cell_type": "code",
   "execution_count": 15,
   "metadata": {},
   "outputs": [],
   "source": [
    "#Criando um novo dataframe com as linhas de Idade = NaN\n",
    "idade_nan = titanic[titanic['idade'].isnull()]"
   ]
  },
  {
   "cell_type": "code",
   "execution_count": 16,
   "metadata": {},
   "outputs": [
    {
     "data": {
      "text/plain": [
       "classes  classes\n",
       "1        1           30\n",
       "2        2           11\n",
       "3        3          136\n",
       "Name: classes, dtype: int64"
      ]
     },
     "execution_count": 16,
     "metadata": {},
     "output_type": "execute_result"
    }
   ],
   "source": [
    "#Verificando a quantidade em cada classe\n",
    "idade_nan.groupby('classes')['classes'].value_counts()"
   ]
  },
  {
   "cell_type": "code",
   "execution_count": 17,
   "metadata": {},
   "outputs": [],
   "source": [
    "#Criando novos dataframes de acordo com a classe de embarque\n",
    "idade_nan_1 = idade_nan[idade_nan['classes'] == 1]\n",
    "idade_nan_2 = idade_nan[idade_nan['classes'] == 2]\n",
    "idade_nan_3 = idade_nan[idade_nan['classes'] == 3]"
   ]
  },
  {
   "cell_type": "code",
   "execution_count": 18,
   "metadata": {},
   "outputs": [],
   "source": [
    "#Preenchendo a coluna idade de cada dataframe de classe com a idade média\n",
    "idade_nan_1['idade'] = int(mean_1)\n",
    "idade_nan_2['idade'] = int(mean_2)\n",
    "idade_nan_3['idade'] = int(mean_3)"
   ]
  },
  {
   "cell_type": "code",
   "execution_count": 19,
   "metadata": {},
   "outputs": [],
   "source": [
    "#Removendo do dataframe principal as linhas com idade = NaN\n",
    "titanic.dropna(subset=['idade'], inplace=True)"
   ]
  },
  {
   "cell_type": "code",
   "execution_count": 20,
   "metadata": {},
   "outputs": [],
   "source": [
    "# Anexando os novos dataframes com idade preenchida ao dataframe principal\n",
    "titanic = titanic.append(idade_nan_1, ignore_index=True)\n",
    "titanic = titanic.append(idade_nan_2, ignore_index=True)\n",
    "titanic = titanic.append(idade_nan_3, ignore_index=True)\n"
   ]
  },
  {
   "cell_type": "code",
   "execution_count": 21,
   "metadata": {},
   "outputs": [
    {
     "data": {
      "text/plain": [
       "sobreviveu        889\n",
       "classes           889\n",
       "genero            889\n",
       "idade             889\n",
       "irmaos_conjuge    889\n",
       "pais_filhos       889\n",
       "tarifa            889\n",
       "embarque          889\n",
       "dtype: int64"
      ]
     },
     "execution_count": 21,
     "metadata": {},
     "output_type": "execute_result"
    }
   ],
   "source": [
    "titanic.count()"
   ]
  },
  {
   "cell_type": "code",
   "execution_count": 22,
   "metadata": {},
   "outputs": [
    {
     "data": {
      "text/html": [
       "<div>\n",
       "<style scoped>\n",
       "    .dataframe tbody tr th:only-of-type {\n",
       "        vertical-align: middle;\n",
       "    }\n",
       "\n",
       "    .dataframe tbody tr th {\n",
       "        vertical-align: top;\n",
       "    }\n",
       "\n",
       "    .dataframe thead th {\n",
       "        text-align: right;\n",
       "    }\n",
       "</style>\n",
       "<table border=\"1\" class=\"dataframe\">\n",
       "  <thead>\n",
       "    <tr style=\"text-align: right;\">\n",
       "      <th></th>\n",
       "      <th>sobreviveu</th>\n",
       "      <th>classes</th>\n",
       "      <th>genero</th>\n",
       "      <th>idade</th>\n",
       "      <th>irmaos_conjuge</th>\n",
       "      <th>pais_filhos</th>\n",
       "      <th>tarifa</th>\n",
       "      <th>embarque</th>\n",
       "    </tr>\n",
       "  </thead>\n",
       "  <tbody>\n",
       "    <tr>\n",
       "      <th>0</th>\n",
       "      <td>N</td>\n",
       "      <td>3</td>\n",
       "      <td>masculino</td>\n",
       "      <td>22.0</td>\n",
       "      <td>1</td>\n",
       "      <td>0</td>\n",
       "      <td>7.2500</td>\n",
       "      <td>Southampton</td>\n",
       "    </tr>\n",
       "    <tr>\n",
       "      <th>1</th>\n",
       "      <td>S</td>\n",
       "      <td>1</td>\n",
       "      <td>feminino</td>\n",
       "      <td>38.0</td>\n",
       "      <td>1</td>\n",
       "      <td>0</td>\n",
       "      <td>71.2833</td>\n",
       "      <td>Cherbourg</td>\n",
       "    </tr>\n",
       "    <tr>\n",
       "      <th>2</th>\n",
       "      <td>S</td>\n",
       "      <td>3</td>\n",
       "      <td>feminino</td>\n",
       "      <td>26.0</td>\n",
       "      <td>0</td>\n",
       "      <td>0</td>\n",
       "      <td>7.9250</td>\n",
       "      <td>Southampton</td>\n",
       "    </tr>\n",
       "    <tr>\n",
       "      <th>3</th>\n",
       "      <td>S</td>\n",
       "      <td>1</td>\n",
       "      <td>feminino</td>\n",
       "      <td>35.0</td>\n",
       "      <td>1</td>\n",
       "      <td>0</td>\n",
       "      <td>53.1000</td>\n",
       "      <td>Southampton</td>\n",
       "    </tr>\n",
       "    <tr>\n",
       "      <th>4</th>\n",
       "      <td>N</td>\n",
       "      <td>3</td>\n",
       "      <td>masculino</td>\n",
       "      <td>35.0</td>\n",
       "      <td>0</td>\n",
       "      <td>0</td>\n",
       "      <td>8.0500</td>\n",
       "      <td>Southampton</td>\n",
       "    </tr>\n",
       "  </tbody>\n",
       "</table>\n",
       "</div>"
      ],
      "text/plain": [
       "  sobreviveu  classes     genero  idade  irmaos_conjuge  pais_filhos   tarifa  \\\n",
       "0          N        3  masculino   22.0               1            0   7.2500   \n",
       "1          S        1   feminino   38.0               1            0  71.2833   \n",
       "2          S        3   feminino   26.0               0            0   7.9250   \n",
       "3          S        1   feminino   35.0               1            0  53.1000   \n",
       "4          N        3  masculino   35.0               0            0   8.0500   \n",
       "\n",
       "      embarque  \n",
       "0  Southampton  \n",
       "1    Cherbourg  \n",
       "2  Southampton  \n",
       "3  Southampton  \n",
       "4  Southampton  "
      ]
     },
     "execution_count": 22,
     "metadata": {},
     "output_type": "execute_result"
    }
   ],
   "source": [
    "titanic.head()"
   ]
  },
  {
   "cell_type": "markdown",
   "metadata": {},
   "source": [
    "##### Criando classificação etária"
   ]
  },
  {
   "cell_type": "markdown",
   "metadata": {},
   "source": [
    "Embora a idade de início da responsabilidade penal na Inglaterra esteja fixada aos 10 anos, a privação de liberdade somente é admitida após os 15 anos de idade. [Idade Penal: Tabela Comparativa](http://www.crianca.mppr.mp.br/pagina-323.html)\n",
    "\n",
    "Por esse motivo, vamos assumir que as crianças tem até 15 anos.\n",
    "\n",
    "Crianças: de 0 a 15  \n",
    "Adultos: de 16 a 59  \n",
    "Idosos: Maior ou igual a 60 anos.\n"
   ]
  },
  {
   "cell_type": "code",
   "execution_count": 23,
   "metadata": {},
   "outputs": [
    {
     "data": {
      "text/html": [
       "<div>\n",
       "<style scoped>\n",
       "    .dataframe tbody tr th:only-of-type {\n",
       "        vertical-align: middle;\n",
       "    }\n",
       "\n",
       "    .dataframe tbody tr th {\n",
       "        vertical-align: top;\n",
       "    }\n",
       "\n",
       "    .dataframe thead th {\n",
       "        text-align: right;\n",
       "    }\n",
       "</style>\n",
       "<table border=\"1\" class=\"dataframe\">\n",
       "  <thead>\n",
       "    <tr style=\"text-align: right;\">\n",
       "      <th></th>\n",
       "      <th>sobreviveu</th>\n",
       "      <th>classes</th>\n",
       "      <th>genero</th>\n",
       "      <th>idade</th>\n",
       "      <th>irmaos_conjuge</th>\n",
       "      <th>pais_filhos</th>\n",
       "      <th>tarifa</th>\n",
       "      <th>embarque</th>\n",
       "      <th>class_etaria</th>\n",
       "    </tr>\n",
       "  </thead>\n",
       "  <tbody>\n",
       "    <tr>\n",
       "      <th>0</th>\n",
       "      <td>N</td>\n",
       "      <td>3</td>\n",
       "      <td>masculino</td>\n",
       "      <td>22.0</td>\n",
       "      <td>1</td>\n",
       "      <td>0</td>\n",
       "      <td>7.2500</td>\n",
       "      <td>Southampton</td>\n",
       "      <td>adulto</td>\n",
       "    </tr>\n",
       "    <tr>\n",
       "      <th>1</th>\n",
       "      <td>S</td>\n",
       "      <td>1</td>\n",
       "      <td>feminino</td>\n",
       "      <td>38.0</td>\n",
       "      <td>1</td>\n",
       "      <td>0</td>\n",
       "      <td>71.2833</td>\n",
       "      <td>Cherbourg</td>\n",
       "      <td>adulto</td>\n",
       "    </tr>\n",
       "    <tr>\n",
       "      <th>2</th>\n",
       "      <td>S</td>\n",
       "      <td>3</td>\n",
       "      <td>feminino</td>\n",
       "      <td>26.0</td>\n",
       "      <td>0</td>\n",
       "      <td>0</td>\n",
       "      <td>7.9250</td>\n",
       "      <td>Southampton</td>\n",
       "      <td>adulto</td>\n",
       "    </tr>\n",
       "    <tr>\n",
       "      <th>3</th>\n",
       "      <td>S</td>\n",
       "      <td>1</td>\n",
       "      <td>feminino</td>\n",
       "      <td>35.0</td>\n",
       "      <td>1</td>\n",
       "      <td>0</td>\n",
       "      <td>53.1000</td>\n",
       "      <td>Southampton</td>\n",
       "      <td>adulto</td>\n",
       "    </tr>\n",
       "    <tr>\n",
       "      <th>4</th>\n",
       "      <td>N</td>\n",
       "      <td>3</td>\n",
       "      <td>masculino</td>\n",
       "      <td>35.0</td>\n",
       "      <td>0</td>\n",
       "      <td>0</td>\n",
       "      <td>8.0500</td>\n",
       "      <td>Southampton</td>\n",
       "      <td>adulto</td>\n",
       "    </tr>\n",
       "  </tbody>\n",
       "</table>\n",
       "</div>"
      ],
      "text/plain": [
       "  sobreviveu  classes     genero  idade  irmaos_conjuge  pais_filhos   tarifa  \\\n",
       "0          N        3  masculino   22.0               1            0   7.2500   \n",
       "1          S        1   feminino   38.0               1            0  71.2833   \n",
       "2          S        3   feminino   26.0               0            0   7.9250   \n",
       "3          S        1   feminino   35.0               1            0  53.1000   \n",
       "4          N        3  masculino   35.0               0            0   8.0500   \n",
       "\n",
       "      embarque class_etaria  \n",
       "0  Southampton       adulto  \n",
       "1    Cherbourg       adulto  \n",
       "2  Southampton       adulto  \n",
       "3  Southampton       adulto  \n",
       "4  Southampton       adulto  "
      ]
     },
     "execution_count": 23,
     "metadata": {},
     "output_type": "execute_result"
    }
   ],
   "source": [
    "# Classificando em classe etária de acordo com a idade\n",
    "bin_edges = [0, 15, 60, 80] # Preencha esta lista com os cinco valores que você acabou de encontrar\n",
    "\n",
    "# Rótulos para os grupos de idade\n",
    "bin_names = [ 'criança', 'adulto', 'idoso' ] \n",
    "\n",
    "# Criando a coluna de classe etária\n",
    "titanic['class_etaria'] = pd.cut(titanic['idade'], bin_edges, labels=bin_names)\n",
    "\n",
    "titanic.head()"
   ]
  },
  {
   "cell_type": "code",
   "execution_count": 24,
   "metadata": {},
   "outputs": [],
   "source": [
    "titanic['familiares'] = titanic['irmaos_conjuge'] + titanic['pais_filhos']\n",
    "sozinho = titanic.query('familiares == 0')\n",
    "acompanhados = titanic.query('familiares > 0')\n",
    "\n",
    "sozinho['acompanhante'] = 'N'\n",
    "acompanhados['acompanhante'] = 'S'\n",
    "\n",
    "titanic = pd.DataFrame(columns = ['sobreviveu', 'classes', 'genero', 'idade', 'irmaos_conjuge', 'pais_filhos', 'tarifa', 'embarque', 'class_etaria', 'familiares', 'acompanhante'])\n",
    "titanic = titanic.append(sozinho, ignore_index=True)\n",
    "titanic = titanic.append(acompanhados, ignore_index=True)"
   ]
  },
  {
   "cell_type": "code",
   "execution_count": 25,
   "metadata": {},
   "outputs": [
    {
     "data": {
      "text/html": [
       "<div>\n",
       "<style scoped>\n",
       "    .dataframe tbody tr th:only-of-type {\n",
       "        vertical-align: middle;\n",
       "    }\n",
       "\n",
       "    .dataframe tbody tr th {\n",
       "        vertical-align: top;\n",
       "    }\n",
       "\n",
       "    .dataframe thead th {\n",
       "        text-align: right;\n",
       "    }\n",
       "</style>\n",
       "<table border=\"1\" class=\"dataframe\">\n",
       "  <thead>\n",
       "    <tr style=\"text-align: right;\">\n",
       "      <th></th>\n",
       "      <th>sobreviveu</th>\n",
       "      <th>classes</th>\n",
       "      <th>genero</th>\n",
       "      <th>idade</th>\n",
       "      <th>irmaos_conjuge</th>\n",
       "      <th>pais_filhos</th>\n",
       "      <th>tarifa</th>\n",
       "      <th>embarque</th>\n",
       "      <th>class_etaria</th>\n",
       "      <th>familiares</th>\n",
       "      <th>acompanhante</th>\n",
       "    </tr>\n",
       "  </thead>\n",
       "  <tbody>\n",
       "    <tr>\n",
       "      <th>0</th>\n",
       "      <td>S</td>\n",
       "      <td>3</td>\n",
       "      <td>feminino</td>\n",
       "      <td>26.0</td>\n",
       "      <td>0</td>\n",
       "      <td>0</td>\n",
       "      <td>7.9250</td>\n",
       "      <td>Southampton</td>\n",
       "      <td>adulto</td>\n",
       "      <td>0</td>\n",
       "      <td>N</td>\n",
       "    </tr>\n",
       "    <tr>\n",
       "      <th>1</th>\n",
       "      <td>N</td>\n",
       "      <td>3</td>\n",
       "      <td>masculino</td>\n",
       "      <td>35.0</td>\n",
       "      <td>0</td>\n",
       "      <td>0</td>\n",
       "      <td>8.0500</td>\n",
       "      <td>Southampton</td>\n",
       "      <td>adulto</td>\n",
       "      <td>0</td>\n",
       "      <td>N</td>\n",
       "    </tr>\n",
       "    <tr>\n",
       "      <th>2</th>\n",
       "      <td>N</td>\n",
       "      <td>1</td>\n",
       "      <td>masculino</td>\n",
       "      <td>54.0</td>\n",
       "      <td>0</td>\n",
       "      <td>0</td>\n",
       "      <td>51.8625</td>\n",
       "      <td>Southampton</td>\n",
       "      <td>adulto</td>\n",
       "      <td>0</td>\n",
       "      <td>N</td>\n",
       "    </tr>\n",
       "    <tr>\n",
       "      <th>3</th>\n",
       "      <td>S</td>\n",
       "      <td>1</td>\n",
       "      <td>feminino</td>\n",
       "      <td>58.0</td>\n",
       "      <td>0</td>\n",
       "      <td>0</td>\n",
       "      <td>26.5500</td>\n",
       "      <td>Southampton</td>\n",
       "      <td>adulto</td>\n",
       "      <td>0</td>\n",
       "      <td>N</td>\n",
       "    </tr>\n",
       "    <tr>\n",
       "      <th>4</th>\n",
       "      <td>N</td>\n",
       "      <td>3</td>\n",
       "      <td>masculino</td>\n",
       "      <td>20.0</td>\n",
       "      <td>0</td>\n",
       "      <td>0</td>\n",
       "      <td>8.0500</td>\n",
       "      <td>Southampton</td>\n",
       "      <td>adulto</td>\n",
       "      <td>0</td>\n",
       "      <td>N</td>\n",
       "    </tr>\n",
       "  </tbody>\n",
       "</table>\n",
       "</div>"
      ],
      "text/plain": [
       "  sobreviveu classes     genero  idade irmaos_conjuge pais_filhos   tarifa  \\\n",
       "0          S       3   feminino   26.0              0           0   7.9250   \n",
       "1          N       3  masculino   35.0              0           0   8.0500   \n",
       "2          N       1  masculino   54.0              0           0  51.8625   \n",
       "3          S       1   feminino   58.0              0           0  26.5500   \n",
       "4          N       3  masculino   20.0              0           0   8.0500   \n",
       "\n",
       "      embarque class_etaria familiares acompanhante  \n",
       "0  Southampton       adulto          0            N  \n",
       "1  Southampton       adulto          0            N  \n",
       "2  Southampton       adulto          0            N  \n",
       "3  Southampton       adulto          0            N  \n",
       "4  Southampton       adulto          0            N  "
      ]
     },
     "execution_count": 25,
     "metadata": {},
     "output_type": "execute_result"
    }
   ],
   "source": [
    "titanic.head()"
   ]
  },
  {
   "cell_type": "code",
   "execution_count": 26,
   "metadata": {},
   "outputs": [
    {
     "data": {
      "text/plain": [
       "sobreviveu         object\n",
       "classes            object\n",
       "genero             object\n",
       "idade             float64\n",
       "irmaos_conjuge     object\n",
       "pais_filhos        object\n",
       "tarifa            float64\n",
       "embarque           object\n",
       "class_etaria       object\n",
       "familiares         object\n",
       "acompanhante       object\n",
       "dtype: object"
      ]
     },
     "execution_count": 26,
     "metadata": {},
     "output_type": "execute_result"
    }
   ],
   "source": [
    "titanic.dtypes"
   ]
  },
  {
   "cell_type": "code",
   "execution_count": 27,
   "metadata": {},
   "outputs": [],
   "source": [
    "'''#Formatando as colunas familiares, irmãos_conjuge e pais_filhos\n",
    "titanic['familiares'] = titanic['familiares'].astype(int, inplace=True)\n",
    "titanic['irmaos_conjuge'] = titanic['irmaos_conjuge'].astype(int, inplace=True)\n",
    "titanic['pais_filhos'] = titanic['pais_filhos'].astype(int, inplace=True)'''\n",
    "\n",
    "\n",
    "#Formatando as colunas familiares, irmãos_conjuge e pais_filhos\n",
    "titanic['familiares'] = titanic['familiares'].astype(int)\n",
    "titanic['irmaos_conjuge'] = titanic['irmaos_conjuge'].astype(int)\n",
    "titanic['pais_filhos'] = titanic['pais_filhos'].astype(int)"
   ]
  },
  {
   "cell_type": "code",
   "execution_count": 28,
   "metadata": {},
   "outputs": [
    {
     "data": {
      "text/plain": [
       "sobreviveu         object\n",
       "classes            object\n",
       "genero             object\n",
       "idade             float64\n",
       "irmaos_conjuge      int64\n",
       "pais_filhos         int64\n",
       "tarifa            float64\n",
       "embarque           object\n",
       "class_etaria       object\n",
       "familiares          int64\n",
       "acompanhante       object\n",
       "dtype: object"
      ]
     },
     "execution_count": 28,
     "metadata": {},
     "output_type": "execute_result"
    }
   ],
   "source": [
    "titanic.dtypes"
   ]
  },
  {
   "cell_type": "markdown",
   "metadata": {},
   "source": [
    "##### Visão geral das variáveis numéricas"
   ]
  },
  {
   "cell_type": "code",
   "execution_count": 29,
   "metadata": {},
   "outputs": [
    {
     "data": {
      "text/html": [
       "<div>\n",
       "<style scoped>\n",
       "    .dataframe tbody tr th:only-of-type {\n",
       "        vertical-align: middle;\n",
       "    }\n",
       "\n",
       "    .dataframe tbody tr th {\n",
       "        vertical-align: top;\n",
       "    }\n",
       "\n",
       "    .dataframe thead th {\n",
       "        text-align: right;\n",
       "    }\n",
       "</style>\n",
       "<table border=\"1\" class=\"dataframe\">\n",
       "  <thead>\n",
       "    <tr style=\"text-align: right;\">\n",
       "      <th></th>\n",
       "      <th>idade</th>\n",
       "      <th>irmaos_conjuge</th>\n",
       "      <th>pais_filhos</th>\n",
       "      <th>tarifa</th>\n",
       "      <th>familiares</th>\n",
       "    </tr>\n",
       "  </thead>\n",
       "  <tbody>\n",
       "    <tr>\n",
       "      <th>count</th>\n",
       "      <td>889.000000</td>\n",
       "      <td>889.000000</td>\n",
       "      <td>889.000000</td>\n",
       "      <td>889.000000</td>\n",
       "      <td>889.000000</td>\n",
       "    </tr>\n",
       "    <tr>\n",
       "      <th>mean</th>\n",
       "      <td>29.206040</td>\n",
       "      <td>0.524184</td>\n",
       "      <td>0.382452</td>\n",
       "      <td>32.096681</td>\n",
       "      <td>0.906637</td>\n",
       "    </tr>\n",
       "    <tr>\n",
       "      <th>std</th>\n",
       "      <td>13.177747</td>\n",
       "      <td>1.103705</td>\n",
       "      <td>0.806761</td>\n",
       "      <td>49.697504</td>\n",
       "      <td>1.614703</td>\n",
       "    </tr>\n",
       "    <tr>\n",
       "      <th>min</th>\n",
       "      <td>0.420000</td>\n",
       "      <td>0.000000</td>\n",
       "      <td>0.000000</td>\n",
       "      <td>0.000000</td>\n",
       "      <td>0.000000</td>\n",
       "    </tr>\n",
       "    <tr>\n",
       "      <th>25%</th>\n",
       "      <td>22.000000</td>\n",
       "      <td>0.000000</td>\n",
       "      <td>0.000000</td>\n",
       "      <td>7.895800</td>\n",
       "      <td>0.000000</td>\n",
       "    </tr>\n",
       "    <tr>\n",
       "      <th>50%</th>\n",
       "      <td>26.000000</td>\n",
       "      <td>0.000000</td>\n",
       "      <td>0.000000</td>\n",
       "      <td>14.454200</td>\n",
       "      <td>0.000000</td>\n",
       "    </tr>\n",
       "    <tr>\n",
       "      <th>75%</th>\n",
       "      <td>36.500000</td>\n",
       "      <td>1.000000</td>\n",
       "      <td>0.000000</td>\n",
       "      <td>31.000000</td>\n",
       "      <td>1.000000</td>\n",
       "    </tr>\n",
       "    <tr>\n",
       "      <th>max</th>\n",
       "      <td>80.000000</td>\n",
       "      <td>8.000000</td>\n",
       "      <td>6.000000</td>\n",
       "      <td>512.329200</td>\n",
       "      <td>10.000000</td>\n",
       "    </tr>\n",
       "  </tbody>\n",
       "</table>\n",
       "</div>"
      ],
      "text/plain": [
       "            idade  irmaos_conjuge  pais_filhos      tarifa  familiares\n",
       "count  889.000000      889.000000   889.000000  889.000000  889.000000\n",
       "mean    29.206040        0.524184     0.382452   32.096681    0.906637\n",
       "std     13.177747        1.103705     0.806761   49.697504    1.614703\n",
       "min      0.420000        0.000000     0.000000    0.000000    0.000000\n",
       "25%     22.000000        0.000000     0.000000    7.895800    0.000000\n",
       "50%     26.000000        0.000000     0.000000   14.454200    0.000000\n",
       "75%     36.500000        1.000000     0.000000   31.000000    1.000000\n",
       "max     80.000000        8.000000     6.000000  512.329200   10.000000"
      ]
     },
     "execution_count": 29,
     "metadata": {},
     "output_type": "execute_result"
    }
   ],
   "source": [
    "titanic.describe()"
   ]
  },
  {
   "cell_type": "markdown",
   "metadata": {},
   "source": [
    "#### Visão geral dos ocupantes do Titanic"
   ]
  },
  {
   "cell_type": "code",
   "execution_count": 30,
   "metadata": {},
   "outputs": [
    {
     "data": {
      "image/png": "[encoded data removed]",
      "text/plain": [
       "<Figure size 432x288 with 1 Axes>"
      ]
     },
     "metadata": {},
     "output_type": "display_data"
    }
   ],
   "source": [
    "# Percentual de ocupantes do Titanic\n",
    "titanic['class_etaria'].value_counts(normalize=True).plot.pie(autopct='%1.1f%%');\n",
    "plt.title('Ocupantes da embarcação');"
   ]
  },
  {
   "cell_type": "markdown",
   "metadata": {},
   "source": [
    "- Dos 889 passageiros presentes nos dados,  88.3% eram adultos, 9.3% crianças e 2% idosos."
   ]
  },
  {
   "cell_type": "code",
   "execution_count": 31,
   "metadata": {},
   "outputs": [
    {
     "data": {
      "image/png": "[encoded data removed]",
      "text/plain": [
       "<Figure size 864x720 with 6 Axes>"
      ]
     },
     "metadata": {
      "needs_background": "light"
     },
     "output_type": "display_data"
    }
   ],
   "source": [
    "#Variáveis categóricas\n",
    "    \n",
    "col = ['sobreviveu','classes', 'genero', 'embarque', 'class_etaria', 'acompanhante']\n",
    "fig, axs = plt.subplots(nrows=3, ncols=2, figsize=(12, 10))\n",
    "for col, ax in zip(col, axs.ravel()):\n",
    "    sns.countplot(x=col, data=titanic, ax=ax)\n",
    "    plt.subplots_adjust(top=0.92, bottom=0.08, left=0.10, right=0.95, hspace=0.40, wspace=0.2)\n",
    "    axs[0,0].set_title('Sobreviventes x Mortos')\n",
    "    axs[0,1].set_title('Passageiros por Classe')\n",
    "    axs[1,0].set_title('Passageiros por gênero')\n",
    "    axs[1,1].set_title('Passageiros por Local de Embarque')\n",
    "    axs[2,0].set_title('Passageiros por Classificação Etária')\n",
    "    axs[2,1].set_title('Passageiros Acompanhados x Desacompanhados')\n",
    "\n",
    "        "
   ]
  },
  {
   "cell_type": "code",
   "execution_count": 32,
   "metadata": {},
   "outputs": [
    {
     "data": {
      "text/plain": [
       "N    0.617548\n",
       "S    0.382452\n",
       "Name: sobreviveu, dtype: float64"
      ]
     },
     "execution_count": 32,
     "metadata": {},
     "output_type": "execute_result"
    }
   ],
   "source": [
    "#Porcentagem de sobreviventes e mortos\n",
    "titanic['sobreviveu'].value_counts(normalize=True)"
   ]
  },
  {
   "cell_type": "markdown",
   "metadata": {},
   "source": [
    "Analisando os gráficos, podemos verificar que: \n",
    "\n",
    "- O número de mortos foi maior que o número de sobreviventes;\n",
    "- A maioria dos passageiros eram da classe 3;\n",
    "- A maioria dos passageiros eram do sexo masculino;\n",
    "- A maioria dos passageiros embarcaram em Southampton, seguido de Cherbourg e Queenstown;\n",
    "- A maioria dos passageiros eram adultos e viajavam sozinhos;\n",
    "- Apenas 38% dos passageiros sobreviveram."
   ]
  },
  {
   "cell_type": "markdown",
   "metadata": {},
   "source": [
    "#### Sobreviventes x Não Sobreviventes\n",
    "\n",
    "###### Por gênero, classe e classificação etária"
   ]
  },
  {
   "cell_type": "code",
   "execution_count": 33,
   "metadata": {},
   "outputs": [
    {
     "data": {
      "image/png": "[encoded data removed]",
      "text/plain": [
       "<Figure size 864x288 with 3 Axes>"
      ]
     },
     "metadata": {
      "needs_background": "light"
     },
     "output_type": "display_data"
    }
   ],
   "source": [
    "#Variáveis categóricas - Analisando sobreviventes e mortos.\n",
    "col = ['genero', 'classes', 'class_etaria']\n",
    "fig, axs = plt.subplots(nrows=1, ncols=3, figsize=(12, 4))\n",
    "for col, ax in zip(col[0:], axs.ravel()):\n",
    "    sns.countplot(x=col, data=titanic, ax=ax, hue='sobreviveu')\n",
    "    plt.subplots_adjust(top=0.92, bottom=0.08, left=0.10, right=0.95, hspace=0.35, wspace=0.30)\n",
    "    axs[0].set_title('Sobreviventes x Mortos: Genero')\n",
    "    axs[1].set_title('Sobreviventes x Mortos: Classe')\n",
    "    axs[2].set_title('Sobreviventes x Mortos: Classificação Etária')\n"
   ]
  },
  {
   "cell_type": "markdown",
   "metadata": {},
   "source": [
    "- Morreram mais homens que mulheres;\n",
    "- A maioria dos mortos eram da 3ª classe;\n",
    "- Não há diferença significativa entre os sobreviventes e mortos da classe 2;\n",
    "- Houve mais sobreviventes que mortos na classe 1;\n",
    "- Em relação a classificação etária, exceto crianças, o número de sobreviventes foi maior que falecidos."
   ]
  },
  {
   "cell_type": "markdown",
   "metadata": {},
   "source": [
    "#### Classe x genero\n",
    "\n",
    "###### Por sobreviventes e não sobreviventes por gênero"
   ]
  },
  {
   "cell_type": "code",
   "execution_count": 34,
   "metadata": {},
   "outputs": [],
   "source": [
    "#Criando variáveis de sobreviventes e não sobreviventes\n",
    "sobreviventes = titanic[titanic['sobreviveu'] == 'S']\n",
    "n_sobreviventes = titanic[titanic['sobreviveu'] == 'N']"
   ]
  },
  {
   "cell_type": "code",
   "execution_count": 35,
   "metadata": {},
   "outputs": [
    {
     "data": {
      "image/png": "[encoded data removed]",
      "text/plain": [
       "<Figure size 490.2x288 with 2 Axes>"
      ]
     },
     "metadata": {
      "needs_background": "light"
     },
     "output_type": "display_data"
    }
   ],
   "source": [
    "#Gráficos classe x gênero\n",
    "sns.catplot(x=\"classes\", hue=\"genero\", col=\"sobreviveu\", data=titanic, kind=\"count\", height=4, aspect=.7);"
   ]
  },
  {
   "cell_type": "code",
   "execution_count": 36,
   "metadata": {},
   "outputs": [
    {
     "data": {
      "text/plain": [
       "sobreviveu  genero     classes\n",
       "N           feminino   3           72\n",
       "                       2            6\n",
       "                       1            3\n",
       "            masculino  3          300\n",
       "                       2           91\n",
       "                       1           77\n",
       "S           feminino   1           89\n",
       "                       3           72\n",
       "                       2           70\n",
       "            masculino  3           47\n",
       "                       1           45\n",
       "                       2           17\n",
       "Name: classes, dtype: int64"
      ]
     },
     "execution_count": 36,
     "metadata": {},
     "output_type": "execute_result"
    }
   ],
   "source": [
    "titanic.groupby(['sobreviveu', 'genero'])['classes'].value_counts()"
   ]
  },
  {
   "cell_type": "markdown",
   "metadata": {},
   "source": [
    "- Analisando por gênero e classe, observamos que o maior número de mortos são homens da classe 3;\n",
    "- Em todas as classes, o número de sobreviventes do gênero feminino é maior que o número de sobreviventes do gênero masculino;\n",
    "- Sobreviveram mais mulheres da classe 1 do que das classes 2 e 3;\n",
    "- Morreram apenas 3 mulheres da classe 1."
   ]
  },
  {
   "cell_type": "markdown",
   "metadata": {},
   "source": [
    "#### Histogramas de Idade"
   ]
  },
  {
   "cell_type": "code",
   "execution_count": 37,
   "metadata": {},
   "outputs": [
    {
     "data": {
      "image/png": "[encoded data removed]",
      "text/plain": [
       "<Figure size 1008x288 with 3 Axes>"
      ]
     },
     "metadata": {
      "needs_background": "light"
     },
     "output_type": "display_data"
    }
   ],
   "source": [
    "# plot\n",
    "f, axes = plt.subplots(1, 3, figsize=(14, 4))\n",
    "\n",
    "sns.distplot(titanic['idade'], kde=False, color=\"red\", ax=axes[0]).set_title(\"Histograma passageiros\");\n",
    "sns.distplot(n_sobreviventes['idade'], kde=False, color=\"red\", ax=axes[1]).set_title(\"Histograma Não Sobreviventes\");\n",
    "sns.distplot(sobreviventes['idade'], kde=False, color=\"blue\", ax=axes[2]).set_title(\"Histograma Sobreviventes\");\n",
    "axes[0].set_ylabel('Frequência');\n",
    "axes[1].set_ylabel('Frequência');\n",
    "axes[2].set_ylabel('Frequência');"
   ]
  },
  {
   "cell_type": "code",
   "execution_count": 38,
   "metadata": {},
   "outputs": [
    {
     "data": {
      "text/plain": [
       "29.20604049493813"
      ]
     },
     "execution_count": 38,
     "metadata": {},
     "output_type": "execute_result"
    }
   ],
   "source": [
    "titanic['idade'].mean()"
   ]
  },
  {
   "cell_type": "markdown",
   "metadata": {},
   "source": [
    "- A maioria dos passageiros tinha entre 20 e 30 anos;\n",
    "- De 0 a 10 anos, houve mais sobreviventes do que falecidos;\n",
    "- A idade média dos passageiros era de 29 anos."
   ]
  },
  {
   "cell_type": "markdown",
   "metadata": {},
   "source": [
    "#### Crianças x Adultos x Idosos\n",
    "##### Ocupantes da embarcação por classe de embarque"
   ]
  },
  {
   "cell_type": "code",
   "execution_count": 39,
   "metadata": {},
   "outputs": [
    {
     "data": {
      "image/png": "[encoded data removed]",
      "text/plain": [
       "<Figure size 274.1x288 with 1 Axes>"
      ]
     },
     "metadata": {
      "needs_background": "light"
     },
     "output_type": "display_data"
    }
   ],
   "source": [
    "sns.catplot(x=\"classes\", hue=\"class_etaria\", data=titanic, kind=\"count\", height=4, aspect=.7)\n",
    "plt.title(\"Passageiros por Classe e Classificação etária\");"
   ]
  },
  {
   "cell_type": "code",
   "execution_count": 40,
   "metadata": {},
   "outputs": [
    {
     "data": {
      "text/plain": [
       "adulto     0.883015\n",
       "criança    0.093363\n",
       "idoso      0.023622\n",
       "Name: class_etaria, dtype: float64"
      ]
     },
     "execution_count": 40,
     "metadata": {},
     "output_type": "execute_result"
    }
   ],
   "source": [
    "titanic['class_etaria'].value_counts(normalize=True)"
   ]
  },
  {
   "cell_type": "markdown",
   "metadata": {},
   "source": [
    "- A maioria dos ocupantes eram adultos, seguidos de crianças e idosos, exceto na 1ª classe.\n",
    "- 88.3% dos ocupantes eram adultos, 9.3% crianças e 2.4%"
   ]
  },
  {
   "cell_type": "code",
   "execution_count": 41,
   "metadata": {},
   "outputs": [
    {
     "data": {
      "text/plain": [
       "classes  class_etaria\n",
       "1        adulto          195\n",
       "         idoso            13\n",
       "         criança           6\n",
       "2        adulto          162\n",
       "         criança          19\n",
       "         idoso             3\n",
       "3        adulto          428\n",
       "         criança          58\n",
       "         idoso             5\n",
       "Name: class_etaria, dtype: int64"
      ]
     },
     "execution_count": 41,
     "metadata": {},
     "output_type": "execute_result"
    }
   ],
   "source": [
    "titanic.groupby('classes')['class_etaria'].value_counts()"
   ]
  },
  {
   "cell_type": "code",
   "execution_count": 42,
   "metadata": {},
   "outputs": [
    {
     "data": {
      "text/plain": [
       "classes  class_etaria\n",
       "1        adulto          127\n",
       "         criança           5\n",
       "         idoso             2\n",
       "2        adulto           67\n",
       "         criança          19\n",
       "         idoso             1\n",
       "3        adulto           93\n",
       "         criança          25\n",
       "         idoso             1\n",
       "Name: class_etaria, dtype: int64"
      ]
     },
     "execution_count": 42,
     "metadata": {},
     "output_type": "execute_result"
    }
   ],
   "source": [
    "sobreviventes.groupby('classes')['class_etaria'].value_counts()"
   ]
  },
  {
   "cell_type": "code",
   "execution_count": 43,
   "metadata": {},
   "outputs": [
    {
     "data": {
      "text/plain": [
       "classes  class_etaria\n",
       "1        adulto           68\n",
       "         idoso            11\n",
       "         criança           1\n",
       "2        adulto           95\n",
       "         idoso             2\n",
       "3        adulto          335\n",
       "         criança          33\n",
       "         idoso             4\n",
       "Name: class_etaria, dtype: int64"
      ]
     },
     "execution_count": 43,
     "metadata": {},
     "output_type": "execute_result"
    }
   ],
   "source": [
    "n_sobreviventes.groupby('classes')['class_etaria'].value_counts()"
   ]
  },
  {
   "cell_type": "markdown",
   "metadata": {},
   "source": [
    "- Dos 195 passageiros da classe 1, 127 sobreviveram;  \n",
    "- Das 6 crianças da classe 1, apenas 1 não sobreviveu;  \n",
    "- Dos 428 adultos da classe 3, 333 não sobreviveram; "
   ]
  },
  {
   "cell_type": "markdown",
   "metadata": {},
   "source": [
    "#### Variação de Tarifas\n",
    "\n",
    "##### Variação de tarifas"
   ]
  },
  {
   "cell_type": "code",
   "execution_count": 44,
   "metadata": {},
   "outputs": [
    {
     "data": {
      "text/html": [
       "<div>\n",
       "<style scoped>\n",
       "    .dataframe tbody tr th:only-of-type {\n",
       "        vertical-align: middle;\n",
       "    }\n",
       "\n",
       "    .dataframe tbody tr th {\n",
       "        vertical-align: top;\n",
       "    }\n",
       "\n",
       "    .dataframe thead th {\n",
       "        text-align: right;\n",
       "    }\n",
       "</style>\n",
       "<table border=\"1\" class=\"dataframe\">\n",
       "  <thead>\n",
       "    <tr style=\"text-align: right;\">\n",
       "      <th></th>\n",
       "      <th>count</th>\n",
       "      <th>mean</th>\n",
       "      <th>std</th>\n",
       "      <th>min</th>\n",
       "      <th>25%</th>\n",
       "      <th>50%</th>\n",
       "      <th>75%</th>\n",
       "      <th>max</th>\n",
       "    </tr>\n",
       "    <tr>\n",
       "      <th>class_etaria</th>\n",
       "      <th></th>\n",
       "      <th></th>\n",
       "      <th></th>\n",
       "      <th></th>\n",
       "      <th></th>\n",
       "      <th></th>\n",
       "      <th></th>\n",
       "      <th></th>\n",
       "    </tr>\n",
       "  </thead>\n",
       "  <tbody>\n",
       "    <tr>\n",
       "      <th>adulto</th>\n",
       "      <td>785.0</td>\n",
       "      <td>31.824919</td>\n",
       "      <td>50.993433</td>\n",
       "      <td>0.0000</td>\n",
       "      <td>7.8958</td>\n",
       "      <td>13.00</td>\n",
       "      <td>30.00000</td>\n",
       "      <td>512.3292</td>\n",
       "    </tr>\n",
       "    <tr>\n",
       "      <th>criança</th>\n",
       "      <td>83.0</td>\n",
       "      <td>32.785795</td>\n",
       "      <td>33.466438</td>\n",
       "      <td>7.2250</td>\n",
       "      <td>15.9000</td>\n",
       "      <td>26.25</td>\n",
       "      <td>32.19375</td>\n",
       "      <td>211.3375</td>\n",
       "    </tr>\n",
       "    <tr>\n",
       "      <th>idoso</th>\n",
       "      <td>21.0</td>\n",
       "      <td>39.531748</td>\n",
       "      <td>55.435684</td>\n",
       "      <td>6.2375</td>\n",
       "      <td>10.5000</td>\n",
       "      <td>26.55</td>\n",
       "      <td>34.65420</td>\n",
       "      <td>263.0000</td>\n",
       "    </tr>\n",
       "  </tbody>\n",
       "</table>\n",
       "</div>"
      ],
      "text/plain": [
       "              count       mean        std     min      25%    50%       75%  \\\n",
       "class_etaria                                                                  \n",
       "adulto        785.0  31.824919  50.993433  0.0000   7.8958  13.00  30.00000   \n",
       "criança        83.0  32.785795  33.466438  7.2250  15.9000  26.25  32.19375   \n",
       "idoso          21.0  39.531748  55.435684  6.2375  10.5000  26.55  34.65420   \n",
       "\n",
       "                   max  \n",
       "class_etaria            \n",
       "adulto        512.3292  \n",
       "criança       211.3375  \n",
       "idoso         263.0000  "
      ]
     },
     "execution_count": 44,
     "metadata": {},
     "output_type": "execute_result"
    }
   ],
   "source": [
    "titanic.groupby('class_etaria')['tarifa'].describe()"
   ]
  },
  {
   "cell_type": "markdown",
   "metadata": {},
   "source": [
    "##### Variação de tarifas por classe etária:\n",
    "    Crianças: de 7.2 a 211,33\n",
    "    Adultos: de 0 a 512\n",
    "    Idosos: 6.2 a 263\n"
   ]
  },
  {
   "cell_type": "markdown",
   "metadata": {},
   "source": [
    "##### Tarifa média"
   ]
  },
  {
   "cell_type": "code",
   "execution_count": 45,
   "metadata": {},
   "outputs": [
    {
     "data": {
      "text/html": [
       "<div>\n",
       "<style scoped>\n",
       "    .dataframe tbody tr th:only-of-type {\n",
       "        vertical-align: middle;\n",
       "    }\n",
       "\n",
       "    .dataframe tbody tr th {\n",
       "        vertical-align: top;\n",
       "    }\n",
       "\n",
       "    .dataframe thead th {\n",
       "        text-align: right;\n",
       "    }\n",
       "</style>\n",
       "<table border=\"1\" class=\"dataframe\">\n",
       "  <thead>\n",
       "    <tr style=\"text-align: right;\">\n",
       "      <th></th>\n",
       "      <th>count</th>\n",
       "      <th>mean</th>\n",
       "      <th>std</th>\n",
       "      <th>min</th>\n",
       "      <th>25%</th>\n",
       "      <th>50%</th>\n",
       "      <th>75%</th>\n",
       "      <th>max</th>\n",
       "    </tr>\n",
       "    <tr>\n",
       "      <th>classes</th>\n",
       "      <th></th>\n",
       "      <th></th>\n",
       "      <th></th>\n",
       "      <th></th>\n",
       "      <th></th>\n",
       "      <th></th>\n",
       "      <th></th>\n",
       "      <th></th>\n",
       "    </tr>\n",
       "  </thead>\n",
       "  <tbody>\n",
       "    <tr>\n",
       "      <th>1</th>\n",
       "      <td>214.0</td>\n",
       "      <td>84.193516</td>\n",
       "      <td>78.746457</td>\n",
       "      <td>0.0</td>\n",
       "      <td>30.77185</td>\n",
       "      <td>58.6896</td>\n",
       "      <td>93.5</td>\n",
       "      <td>512.3292</td>\n",
       "    </tr>\n",
       "    <tr>\n",
       "      <th>2</th>\n",
       "      <td>184.0</td>\n",
       "      <td>20.662183</td>\n",
       "      <td>13.417399</td>\n",
       "      <td>0.0</td>\n",
       "      <td>13.00000</td>\n",
       "      <td>14.2500</td>\n",
       "      <td>26.0</td>\n",
       "      <td>73.5000</td>\n",
       "    </tr>\n",
       "    <tr>\n",
       "      <th>3</th>\n",
       "      <td>491.0</td>\n",
       "      <td>13.675550</td>\n",
       "      <td>11.778142</td>\n",
       "      <td>0.0</td>\n",
       "      <td>7.75000</td>\n",
       "      <td>8.0500</td>\n",
       "      <td>15.5</td>\n",
       "      <td>69.5500</td>\n",
       "    </tr>\n",
       "  </tbody>\n",
       "</table>\n",
       "</div>"
      ],
      "text/plain": [
       "         count       mean        std  min       25%      50%   75%       max\n",
       "classes                                                                     \n",
       "1        214.0  84.193516  78.746457  0.0  30.77185  58.6896  93.5  512.3292\n",
       "2        184.0  20.662183  13.417399  0.0  13.00000  14.2500  26.0   73.5000\n",
       "3        491.0  13.675550  11.778142  0.0   7.75000   8.0500  15.5   69.5500"
      ]
     },
     "execution_count": 45,
     "metadata": {},
     "output_type": "execute_result"
    }
   ],
   "source": [
    "titanic.groupby('classes')['tarifa'].describe()"
   ]
  },
  {
   "cell_type": "markdown",
   "metadata": {},
   "source": [
    "##### Tarifa média dos passageiros por classe:  \n",
    "    Classe 1: 84.19  \n",
    "    Classe 2: 20.66  \n",
    "    Classe 3: 13.67  "
   ]
  },
  {
   "cell_type": "markdown",
   "metadata": {},
   "source": [
    "##### Verificando passageiros com tarifa = 0"
   ]
  },
  {
   "cell_type": "code",
   "execution_count": 46,
   "metadata": {},
   "outputs": [
    {
     "data": {
      "text/html": [
       "<div>\n",
       "<style scoped>\n",
       "    .dataframe tbody tr th:only-of-type {\n",
       "        vertical-align: middle;\n",
       "    }\n",
       "\n",
       "    .dataframe tbody tr th {\n",
       "        vertical-align: top;\n",
       "    }\n",
       "\n",
       "    .dataframe thead th {\n",
       "        text-align: right;\n",
       "    }\n",
       "</style>\n",
       "<table border=\"1\" class=\"dataframe\">\n",
       "  <thead>\n",
       "    <tr style=\"text-align: right;\">\n",
       "      <th></th>\n",
       "      <th>sobreviveu</th>\n",
       "      <th>classes</th>\n",
       "      <th>genero</th>\n",
       "      <th>idade</th>\n",
       "      <th>irmaos_conjuge</th>\n",
       "      <th>pais_filhos</th>\n",
       "      <th>tarifa</th>\n",
       "      <th>embarque</th>\n",
       "      <th>class_etaria</th>\n",
       "      <th>familiares</th>\n",
       "      <th>acompanhante</th>\n",
       "    </tr>\n",
       "  </thead>\n",
       "  <tbody>\n",
       "    <tr>\n",
       "      <th>72</th>\n",
       "      <td>N</td>\n",
       "      <td>3</td>\n",
       "      <td>masculino</td>\n",
       "      <td>36.0</td>\n",
       "      <td>0</td>\n",
       "      <td>0</td>\n",
       "      <td>0.0</td>\n",
       "      <td>Southampton</td>\n",
       "      <td>adulto</td>\n",
       "      <td>0</td>\n",
       "      <td>N</td>\n",
       "    </tr>\n",
       "    <tr>\n",
       "      <th>113</th>\n",
       "      <td>N</td>\n",
       "      <td>1</td>\n",
       "      <td>masculino</td>\n",
       "      <td>40.0</td>\n",
       "      <td>0</td>\n",
       "      <td>0</td>\n",
       "      <td>0.0</td>\n",
       "      <td>Southampton</td>\n",
       "      <td>adulto</td>\n",
       "      <td>0</td>\n",
       "      <td>N</td>\n",
       "    </tr>\n",
       "    <tr>\n",
       "      <th>116</th>\n",
       "      <td>S</td>\n",
       "      <td>3</td>\n",
       "      <td>masculino</td>\n",
       "      <td>25.0</td>\n",
       "      <td>0</td>\n",
       "      <td>0</td>\n",
       "      <td>0.0</td>\n",
       "      <td>Southampton</td>\n",
       "      <td>adulto</td>\n",
       "      <td>0</td>\n",
       "      <td>N</td>\n",
       "    </tr>\n",
       "    <tr>\n",
       "      <th>132</th>\n",
       "      <td>N</td>\n",
       "      <td>3</td>\n",
       "      <td>masculino</td>\n",
       "      <td>19.0</td>\n",
       "      <td>0</td>\n",
       "      <td>0</td>\n",
       "      <td>0.0</td>\n",
       "      <td>Southampton</td>\n",
       "      <td>adulto</td>\n",
       "      <td>0</td>\n",
       "      <td>N</td>\n",
       "    </tr>\n",
       "    <tr>\n",
       "      <th>258</th>\n",
       "      <td>N</td>\n",
       "      <td>3</td>\n",
       "      <td>masculino</td>\n",
       "      <td>49.0</td>\n",
       "      <td>0</td>\n",
       "      <td>0</td>\n",
       "      <td>0.0</td>\n",
       "      <td>Southampton</td>\n",
       "      <td>adulto</td>\n",
       "      <td>0</td>\n",
       "      <td>N</td>\n",
       "    </tr>\n",
       "    <tr>\n",
       "      <th>360</th>\n",
       "      <td>N</td>\n",
       "      <td>1</td>\n",
       "      <td>masculino</td>\n",
       "      <td>39.0</td>\n",
       "      <td>0</td>\n",
       "      <td>0</td>\n",
       "      <td>0.0</td>\n",
       "      <td>Southampton</td>\n",
       "      <td>adulto</td>\n",
       "      <td>0</td>\n",
       "      <td>N</td>\n",
       "    </tr>\n",
       "    <tr>\n",
       "      <th>370</th>\n",
       "      <td>N</td>\n",
       "      <td>1</td>\n",
       "      <td>masculino</td>\n",
       "      <td>38.0</td>\n",
       "      <td>0</td>\n",
       "      <td>0</td>\n",
       "      <td>0.0</td>\n",
       "      <td>Southampton</td>\n",
       "      <td>adulto</td>\n",
       "      <td>0</td>\n",
       "      <td>N</td>\n",
       "    </tr>\n",
       "    <tr>\n",
       "      <th>418</th>\n",
       "      <td>N</td>\n",
       "      <td>1</td>\n",
       "      <td>masculino</td>\n",
       "      <td>38.0</td>\n",
       "      <td>0</td>\n",
       "      <td>0</td>\n",
       "      <td>0.0</td>\n",
       "      <td>Southampton</td>\n",
       "      <td>adulto</td>\n",
       "      <td>0</td>\n",
       "      <td>N</td>\n",
       "    </tr>\n",
       "    <tr>\n",
       "      <th>423</th>\n",
       "      <td>N</td>\n",
       "      <td>1</td>\n",
       "      <td>masculino</td>\n",
       "      <td>38.0</td>\n",
       "      <td>0</td>\n",
       "      <td>0</td>\n",
       "      <td>0.0</td>\n",
       "      <td>Southampton</td>\n",
       "      <td>adulto</td>\n",
       "      <td>0</td>\n",
       "      <td>N</td>\n",
       "    </tr>\n",
       "    <tr>\n",
       "      <th>427</th>\n",
       "      <td>N</td>\n",
       "      <td>2</td>\n",
       "      <td>masculino</td>\n",
       "      <td>29.0</td>\n",
       "      <td>0</td>\n",
       "      <td>0</td>\n",
       "      <td>0.0</td>\n",
       "      <td>Southampton</td>\n",
       "      <td>adulto</td>\n",
       "      <td>0</td>\n",
       "      <td>N</td>\n",
       "    </tr>\n",
       "    <tr>\n",
       "      <th>429</th>\n",
       "      <td>N</td>\n",
       "      <td>2</td>\n",
       "      <td>masculino</td>\n",
       "      <td>29.0</td>\n",
       "      <td>0</td>\n",
       "      <td>0</td>\n",
       "      <td>0.0</td>\n",
       "      <td>Southampton</td>\n",
       "      <td>adulto</td>\n",
       "      <td>0</td>\n",
       "      <td>N</td>\n",
       "    </tr>\n",
       "    <tr>\n",
       "      <th>430</th>\n",
       "      <td>N</td>\n",
       "      <td>2</td>\n",
       "      <td>masculino</td>\n",
       "      <td>29.0</td>\n",
       "      <td>0</td>\n",
       "      <td>0</td>\n",
       "      <td>0.0</td>\n",
       "      <td>Southampton</td>\n",
       "      <td>adulto</td>\n",
       "      <td>0</td>\n",
       "      <td>N</td>\n",
       "    </tr>\n",
       "    <tr>\n",
       "      <th>431</th>\n",
       "      <td>N</td>\n",
       "      <td>2</td>\n",
       "      <td>masculino</td>\n",
       "      <td>29.0</td>\n",
       "      <td>0</td>\n",
       "      <td>0</td>\n",
       "      <td>0.0</td>\n",
       "      <td>Southampton</td>\n",
       "      <td>adulto</td>\n",
       "      <td>0</td>\n",
       "      <td>N</td>\n",
       "    </tr>\n",
       "    <tr>\n",
       "      <th>434</th>\n",
       "      <td>N</td>\n",
       "      <td>2</td>\n",
       "      <td>masculino</td>\n",
       "      <td>29.0</td>\n",
       "      <td>0</td>\n",
       "      <td>0</td>\n",
       "      <td>0.0</td>\n",
       "      <td>Southampton</td>\n",
       "      <td>adulto</td>\n",
       "      <td>0</td>\n",
       "      <td>N</td>\n",
       "    </tr>\n",
       "    <tr>\n",
       "      <th>435</th>\n",
       "      <td>N</td>\n",
       "      <td>2</td>\n",
       "      <td>masculino</td>\n",
       "      <td>29.0</td>\n",
       "      <td>0</td>\n",
       "      <td>0</td>\n",
       "      <td>0.0</td>\n",
       "      <td>Southampton</td>\n",
       "      <td>adulto</td>\n",
       "      <td>0</td>\n",
       "      <td>N</td>\n",
       "    </tr>\n",
       "  </tbody>\n",
       "</table>\n",
       "</div>"
      ],
      "text/plain": [
       "    sobreviveu classes     genero  idade  irmaos_conjuge  pais_filhos  tarifa  \\\n",
       "72           N       3  masculino   36.0               0            0     0.0   \n",
       "113          N       1  masculino   40.0               0            0     0.0   \n",
       "116          S       3  masculino   25.0               0            0     0.0   \n",
       "132          N       3  masculino   19.0               0            0     0.0   \n",
       "258          N       3  masculino   49.0               0            0     0.0   \n",
       "360          N       1  masculino   39.0               0            0     0.0   \n",
       "370          N       1  masculino   38.0               0            0     0.0   \n",
       "418          N       1  masculino   38.0               0            0     0.0   \n",
       "423          N       1  masculino   38.0               0            0     0.0   \n",
       "427          N       2  masculino   29.0               0            0     0.0   \n",
       "429          N       2  masculino   29.0               0            0     0.0   \n",
       "430          N       2  masculino   29.0               0            0     0.0   \n",
       "431          N       2  masculino   29.0               0            0     0.0   \n",
       "434          N       2  masculino   29.0               0            0     0.0   \n",
       "435          N       2  masculino   29.0               0            0     0.0   \n",
       "\n",
       "        embarque class_etaria  familiares acompanhante  \n",
       "72   Southampton       adulto           0            N  \n",
       "113  Southampton       adulto           0            N  \n",
       "116  Southampton       adulto           0            N  \n",
       "132  Southampton       adulto           0            N  \n",
       "258  Southampton       adulto           0            N  \n",
       "360  Southampton       adulto           0            N  \n",
       "370  Southampton       adulto           0            N  \n",
       "418  Southampton       adulto           0            N  \n",
       "423  Southampton       adulto           0            N  \n",
       "427  Southampton       adulto           0            N  \n",
       "429  Southampton       adulto           0            N  \n",
       "430  Southampton       adulto           0            N  \n",
       "431  Southampton       adulto           0            N  \n",
       "434  Southampton       adulto           0            N  \n",
       "435  Southampton       adulto           0            N  "
      ]
     },
     "execution_count": 46,
     "metadata": {},
     "output_type": "execute_result"
    }
   ],
   "source": [
    "titanic[titanic['tarifa'] == 0]"
   ]
  },
  {
   "cell_type": "markdown",
   "metadata": {},
   "source": [
    "- As tarifas igual a 0 ou que não tiveram o valor informado, possivelmente eram de tripulantes, visto que eram homens com idade entre 19 e 40 anos, viajando sozinhos."
   ]
  },
  {
   "cell_type": "markdown",
   "metadata": {},
   "source": [
    "#### Conclusão\n",
    "\n",
    "No naufrágio do Titanic, das 889 pessoas que embarcaram, 61% morreram, 468 homens e 81 mulheres, a maioria dos homens embarcaram na classe 3 em Southampton. \n",
    "67% dos que não sobreviveram eram da classe 3, 17% da classe 2 e 14% classe 1. \n",
    "Entre os sobreviventes, 39% eram da classe 1, 35% classe 3 e 25% classe 2. \n",
    "67% dos sobreviventes eram do sexo feminino. \n",
    "\n",
    "Com isso podemos concluir que a 1º classe e as mulheres tiveram prioridade no embarque dos botes salva vidas. \n",
    "\n"
   ]
  },
  {
   "cell_type": "markdown",
   "metadata": {},
   "source": [
    "#### Limitações\n",
    "\n",
    "A falta de informações em Idade, cabine e Embarque para alguns passageiros foram fatores limitantes na análise realizada. Para contornar o problema, algumas ações foram tomadas:  \n",
    "        `Idade`: Os valores ausentes foram preenchidos com a idade média da classe de embarque;  \n",
    "        `Cabine`: As informações de cabine foram descartadas para todos os passageiros, pois não seriam consideradas na fase exploratória.  \n",
    "        `Embarque`: Os 2 passageiros que não tinham informação de embarque foram descartados.   \n",
    "\n"
   ]
  },
  {
   "cell_type": "markdown",
   "metadata": {},
   "source": [
    "#### Referências:\n",
    "\n",
    "[Wikipedia](https://pt.wikipedia.org/wiki/RMS_Titanic)  \n",
    "[Investigando o naufrágio do Titanic - Márcio Ozório de Jesus](https://medium.com/marciojesus/investigando-o-naufr%C3%A1gio-do-titanic-b478c7750d31)  \n",
    "[O que o Naufrágio do Titanic nos ensina até hoje - Paulo Vasconcellos](https://paulovasconcellos.com.br/o-que-o-naufr%C3%A1gio-do-titanic-nos-ensina-at%C3%A9-hoje-data-science-project-2fea8ff1c9b5)  \n",
    "[Idade Penal: Tabela Comparativa](http://www.crianca.mppr.mp.br/pagina-323.html)\n"
   ]
  },
  {
   "cell_type": "markdown",
   "metadata": {},
   "source": [
    "__________________________________________________________________________________________________________________________"
   ]
  },
  {
   "cell_type": "markdown",
   "metadata": {},
   "source": [
    "###### Elaborado por Priscila Agostinho em 31/12/2018."
   ]
  }
 ],
 "metadata": {
  "cite2c": {
   "citations": {
    "6577147/UVJ3TXCM": {
     "URL": "http://www.crianca.mppr.mp.br/pagina-323.html",
     "id": "6577147/UVJ3TXCM",
     "title": "Idade Penal: Tabela Comparativa",
     "type": "webpage"
    }
   }
  },
  "kernelspec": {
   "display_name": "Python 3",
   "language": "python",
   "name": "python3"
  },
  "language_info": {
   "codemirror_mode": {
    "name": "ipython",
    "version": 3
   },
   "file_extension": ".py",
   "mimetype": "text/x-python",
   "name": "python",
   "nbconvert_exporter": "python",
   "pygments_lexer": "ipython3",
   "version": "3.7.6"
  }
 },
 "nbformat": 4,
 "nbformat_minor": 2
}
